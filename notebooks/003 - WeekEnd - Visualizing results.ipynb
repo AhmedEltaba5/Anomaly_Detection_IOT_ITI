{
 "cells": [
  {
   "cell_type": "code",
   "execution_count": 1,
   "id": "3043b88e",
   "metadata": {},
   "outputs": [],
   "source": [
    "import pandas as pd\n",
    "import matplotlib.pyplot as plt\n",
    "import seaborn as sns"
   ]
  },
  {
   "cell_type": "code",
   "execution_count": 18,
   "id": "798d1155",
   "metadata": {},
   "outputs": [],
   "source": [
    "sensor_data = pd.read_excel('weekend_sensor_data.xlsx')"
   ]
  },
  {
   "cell_type": "code",
   "execution_count": 19,
   "id": "5cdf93f0",
   "metadata": {},
   "outputs": [
    {
     "data": {
      "text/html": [
       "<div>\n",
       "<style scoped>\n",
       "    .dataframe tbody tr th:only-of-type {\n",
       "        vertical-align: middle;\n",
       "    }\n",
       "\n",
       "    .dataframe tbody tr th {\n",
       "        vertical-align: top;\n",
       "    }\n",
       "\n",
       "    .dataframe thead th {\n",
       "        text-align: right;\n",
       "    }\n",
       "</style>\n",
       "<table border=\"1\" class=\"dataframe\">\n",
       "  <thead>\n",
       "    <tr style=\"text-align: right;\">\n",
       "      <th></th>\n",
       "      <th>ITI_GP_V3_Sensor_Data</th>\n",
       "      <th>Unnamed: 1</th>\n",
       "      <th>Unnamed: 2</th>\n",
       "      <th>Unnamed: 3</th>\n",
       "      <th>Unnamed: 4</th>\n",
       "      <th>Unnamed: 5</th>\n",
       "      <th>Unnamed: 6</th>\n",
       "    </tr>\n",
       "  </thead>\n",
       "  <tbody>\n",
       "    <tr>\n",
       "      <th>0</th>\n",
       "      <td>#</td>\n",
       "      <td>id</td>\n",
       "      <td>TimeStamp</td>\n",
       "      <td>captureTime</td>\n",
       "      <td>phoneVersion</td>\n",
       "      <td>appVersion</td>\n",
       "      <td>currentLuxValue</td>\n",
       "    </tr>\n",
       "    <tr>\n",
       "      <th>1</th>\n",
       "      <td>1</td>\n",
       "      <td>16565</td>\n",
       "      <td>Mon, Jan 10, 2022 07:56 pm</td>\n",
       "      <td>1641837389363</td>\n",
       "      <td>9</td>\n",
       "      <td>5.26</td>\n",
       "      <td>23.910648</td>\n",
       "    </tr>\n",
       "    <tr>\n",
       "      <th>2</th>\n",
       "      <td>2</td>\n",
       "      <td>16564</td>\n",
       "      <td>Mon, Jan 10, 2022 07:56 pm</td>\n",
       "      <td>1641837384323</td>\n",
       "      <td>9</td>\n",
       "      <td>5.26</td>\n",
       "      <td>1295.4208</td>\n",
       "    </tr>\n",
       "    <tr>\n",
       "      <th>3</th>\n",
       "      <td>3</td>\n",
       "      <td>16563</td>\n",
       "      <td>Mon, Jan 10, 2022 07:56 pm</td>\n",
       "      <td>1641837379284</td>\n",
       "      <td>9</td>\n",
       "      <td>5.26</td>\n",
       "      <td>1180.7838</td>\n",
       "    </tr>\n",
       "    <tr>\n",
       "      <th>4</th>\n",
       "      <td>4</td>\n",
       "      <td>16562</td>\n",
       "      <td>Mon, Jan 10, 2022 07:56 pm</td>\n",
       "      <td>1641837374248</td>\n",
       "      <td>9</td>\n",
       "      <td>5.26</td>\n",
       "      <td>839.7777</td>\n",
       "    </tr>\n",
       "  </tbody>\n",
       "</table>\n",
       "</div>"
      ],
      "text/plain": [
       "  ITI_GP_V3_Sensor_Data Unnamed: 1                  Unnamed: 2     Unnamed: 3  \\\n",
       "0                     #         id                   TimeStamp    captureTime   \n",
       "1                     1      16565  Mon, Jan 10, 2022 07:56 pm  1641837389363   \n",
       "2                     2      16564  Mon, Jan 10, 2022 07:56 pm  1641837384323   \n",
       "3                     3      16563  Mon, Jan 10, 2022 07:56 pm  1641837379284   \n",
       "4                     4      16562  Mon, Jan 10, 2022 07:56 pm  1641837374248   \n",
       "\n",
       "     Unnamed: 4  Unnamed: 5       Unnamed: 6  \n",
       "0  phoneVersion  appVersion  currentLuxValue  \n",
       "1             9        5.26        23.910648  \n",
       "2             9        5.26        1295.4208  \n",
       "3             9        5.26        1180.7838  \n",
       "4             9        5.26         839.7777  "
      ]
     },
     "execution_count": 19,
     "metadata": {},
     "output_type": "execute_result"
    }
   ],
   "source": [
    "sensor_data.head()"
   ]
  },
  {
   "cell_type": "code",
   "execution_count": 20,
   "id": "6a11d18b",
   "metadata": {},
   "outputs": [],
   "source": [
    "sensor_data.drop(['ITI_GP_V3_Sensor_Data'], axis=1, inplace=True)"
   ]
  },
  {
   "cell_type": "code",
   "execution_count": 21,
   "id": "118a7ace",
   "metadata": {},
   "outputs": [
    {
     "data": {
      "text/html": [
       "<div>\n",
       "<style scoped>\n",
       "    .dataframe tbody tr th:only-of-type {\n",
       "        vertical-align: middle;\n",
       "    }\n",
       "\n",
       "    .dataframe tbody tr th {\n",
       "        vertical-align: top;\n",
       "    }\n",
       "\n",
       "    .dataframe thead th {\n",
       "        text-align: right;\n",
       "    }\n",
       "</style>\n",
       "<table border=\"1\" class=\"dataframe\">\n",
       "  <thead>\n",
       "    <tr style=\"text-align: right;\">\n",
       "      <th></th>\n",
       "      <th>Unnamed: 1</th>\n",
       "      <th>Unnamed: 2</th>\n",
       "      <th>Unnamed: 3</th>\n",
       "      <th>Unnamed: 4</th>\n",
       "      <th>Unnamed: 5</th>\n",
       "      <th>Unnamed: 6</th>\n",
       "    </tr>\n",
       "  </thead>\n",
       "  <tbody>\n",
       "    <tr>\n",
       "      <th>0</th>\n",
       "      <td>id</td>\n",
       "      <td>TimeStamp</td>\n",
       "      <td>captureTime</td>\n",
       "      <td>phoneVersion</td>\n",
       "      <td>appVersion</td>\n",
       "      <td>currentLuxValue</td>\n",
       "    </tr>\n",
       "    <tr>\n",
       "      <th>1</th>\n",
       "      <td>16565</td>\n",
       "      <td>Mon, Jan 10, 2022 07:56 pm</td>\n",
       "      <td>1641837389363</td>\n",
       "      <td>9</td>\n",
       "      <td>5.26</td>\n",
       "      <td>23.910648</td>\n",
       "    </tr>\n",
       "    <tr>\n",
       "      <th>2</th>\n",
       "      <td>16564</td>\n",
       "      <td>Mon, Jan 10, 2022 07:56 pm</td>\n",
       "      <td>1641837384323</td>\n",
       "      <td>9</td>\n",
       "      <td>5.26</td>\n",
       "      <td>1295.4208</td>\n",
       "    </tr>\n",
       "    <tr>\n",
       "      <th>3</th>\n",
       "      <td>16563</td>\n",
       "      <td>Mon, Jan 10, 2022 07:56 pm</td>\n",
       "      <td>1641837379284</td>\n",
       "      <td>9</td>\n",
       "      <td>5.26</td>\n",
       "      <td>1180.7838</td>\n",
       "    </tr>\n",
       "    <tr>\n",
       "      <th>4</th>\n",
       "      <td>16562</td>\n",
       "      <td>Mon, Jan 10, 2022 07:56 pm</td>\n",
       "      <td>1641837374248</td>\n",
       "      <td>9</td>\n",
       "      <td>5.26</td>\n",
       "      <td>839.7777</td>\n",
       "    </tr>\n",
       "  </tbody>\n",
       "</table>\n",
       "</div>"
      ],
      "text/plain": [
       "  Unnamed: 1                  Unnamed: 2     Unnamed: 3    Unnamed: 4  \\\n",
       "0         id                   TimeStamp    captureTime  phoneVersion   \n",
       "1      16565  Mon, Jan 10, 2022 07:56 pm  1641837389363             9   \n",
       "2      16564  Mon, Jan 10, 2022 07:56 pm  1641837384323             9   \n",
       "3      16563  Mon, Jan 10, 2022 07:56 pm  1641837379284             9   \n",
       "4      16562  Mon, Jan 10, 2022 07:56 pm  1641837374248             9   \n",
       "\n",
       "   Unnamed: 5       Unnamed: 6  \n",
       "0  appVersion  currentLuxValue  \n",
       "1        5.26        23.910648  \n",
       "2        5.26        1295.4208  \n",
       "3        5.26        1180.7838  \n",
       "4        5.26         839.7777  "
      ]
     },
     "execution_count": 21,
     "metadata": {},
     "output_type": "execute_result"
    }
   ],
   "source": [
    "sensor_data.head()"
   ]
  },
  {
   "cell_type": "code",
   "execution_count": 22,
   "id": "64cb1201",
   "metadata": {},
   "outputs": [],
   "source": [
    "sensor_data.columns = sensor_data.iloc[0]"
   ]
  },
  {
   "cell_type": "code",
   "execution_count": 23,
   "id": "7e43a094",
   "metadata": {},
   "outputs": [],
   "source": [
    "sensor_data = sensor_data.iloc[1:,:]"
   ]
  },
  {
   "cell_type": "code",
   "execution_count": 24,
   "id": "af61939f",
   "metadata": {},
   "outputs": [
    {
     "data": {
      "text/html": [
       "<div>\n",
       "<style scoped>\n",
       "    .dataframe tbody tr th:only-of-type {\n",
       "        vertical-align: middle;\n",
       "    }\n",
       "\n",
       "    .dataframe tbody tr th {\n",
       "        vertical-align: top;\n",
       "    }\n",
       "\n",
       "    .dataframe thead th {\n",
       "        text-align: right;\n",
       "    }\n",
       "</style>\n",
       "<table border=\"1\" class=\"dataframe\">\n",
       "  <thead>\n",
       "    <tr style=\"text-align: right;\">\n",
       "      <th></th>\n",
       "      <th>id</th>\n",
       "      <th>TimeStamp</th>\n",
       "      <th>captureTime</th>\n",
       "      <th>phoneVersion</th>\n",
       "      <th>appVersion</th>\n",
       "      <th>currentLuxValue</th>\n",
       "    </tr>\n",
       "  </thead>\n",
       "  <tbody>\n",
       "    <tr>\n",
       "      <th>1</th>\n",
       "      <td>16565</td>\n",
       "      <td>Mon, Jan 10, 2022 07:56 pm</td>\n",
       "      <td>1641837389363</td>\n",
       "      <td>9</td>\n",
       "      <td>5.26</td>\n",
       "      <td>23.910648</td>\n",
       "    </tr>\n",
       "    <tr>\n",
       "      <th>2</th>\n",
       "      <td>16564</td>\n",
       "      <td>Mon, Jan 10, 2022 07:56 pm</td>\n",
       "      <td>1641837384323</td>\n",
       "      <td>9</td>\n",
       "      <td>5.26</td>\n",
       "      <td>1295.4208</td>\n",
       "    </tr>\n",
       "    <tr>\n",
       "      <th>3</th>\n",
       "      <td>16563</td>\n",
       "      <td>Mon, Jan 10, 2022 07:56 pm</td>\n",
       "      <td>1641837379284</td>\n",
       "      <td>9</td>\n",
       "      <td>5.26</td>\n",
       "      <td>1180.7838</td>\n",
       "    </tr>\n",
       "    <tr>\n",
       "      <th>4</th>\n",
       "      <td>16562</td>\n",
       "      <td>Mon, Jan 10, 2022 07:56 pm</td>\n",
       "      <td>1641837374248</td>\n",
       "      <td>9</td>\n",
       "      <td>5.26</td>\n",
       "      <td>839.7777</td>\n",
       "    </tr>\n",
       "    <tr>\n",
       "      <th>5</th>\n",
       "      <td>16561</td>\n",
       "      <td>Mon, Jan 10, 2022 07:56 pm</td>\n",
       "      <td>1641837369207</td>\n",
       "      <td>9</td>\n",
       "      <td>5.26</td>\n",
       "      <td>872.6269</td>\n",
       "    </tr>\n",
       "  </tbody>\n",
       "</table>\n",
       "</div>"
      ],
      "text/plain": [
       "0     id                   TimeStamp    captureTime phoneVersion appVersion  \\\n",
       "1  16565  Mon, Jan 10, 2022 07:56 pm  1641837389363            9       5.26   \n",
       "2  16564  Mon, Jan 10, 2022 07:56 pm  1641837384323            9       5.26   \n",
       "3  16563  Mon, Jan 10, 2022 07:56 pm  1641837379284            9       5.26   \n",
       "4  16562  Mon, Jan 10, 2022 07:56 pm  1641837374248            9       5.26   \n",
       "5  16561  Mon, Jan 10, 2022 07:56 pm  1641837369207            9       5.26   \n",
       "\n",
       "0 currentLuxValue  \n",
       "1       23.910648  \n",
       "2       1295.4208  \n",
       "3       1180.7838  \n",
       "4        839.7777  \n",
       "5        872.6269  "
      ]
     },
     "execution_count": 24,
     "metadata": {},
     "output_type": "execute_result"
    }
   ],
   "source": [
    "sensor_data.head()"
   ]
  },
  {
   "cell_type": "code",
   "execution_count": 25,
   "id": "878f7ce5",
   "metadata": {},
   "outputs": [],
   "source": [
    "sensor_data = sensor_data.query('id >= 15119 & id <= 15880')"
   ]
  },
  {
   "cell_type": "code",
   "execution_count": 26,
   "id": "086900a6",
   "metadata": {},
   "outputs": [
    {
     "data": {
      "text/html": [
       "<div>\n",
       "<style scoped>\n",
       "    .dataframe tbody tr th:only-of-type {\n",
       "        vertical-align: middle;\n",
       "    }\n",
       "\n",
       "    .dataframe tbody tr th {\n",
       "        vertical-align: top;\n",
       "    }\n",
       "\n",
       "    .dataframe thead th {\n",
       "        text-align: right;\n",
       "    }\n",
       "</style>\n",
       "<table border=\"1\" class=\"dataframe\">\n",
       "  <thead>\n",
       "    <tr style=\"text-align: right;\">\n",
       "      <th></th>\n",
       "      <th>id</th>\n",
       "      <th>TimeStamp</th>\n",
       "      <th>captureTime</th>\n",
       "      <th>phoneVersion</th>\n",
       "      <th>appVersion</th>\n",
       "      <th>currentLuxValue</th>\n",
       "    </tr>\n",
       "  </thead>\n",
       "  <tbody>\n",
       "    <tr>\n",
       "      <th>686</th>\n",
       "      <td>15880</td>\n",
       "      <td>Mon, Jan 10, 2022 06:11 pm</td>\n",
       "      <td>1641831069719</td>\n",
       "      <td>9</td>\n",
       "      <td>5.26</td>\n",
       "      <td>13.40784</td>\n",
       "    </tr>\n",
       "    <tr>\n",
       "      <th>687</th>\n",
       "      <td>15879</td>\n",
       "      <td>Mon, Jan 10, 2022 06:11 pm</td>\n",
       "      <td>1641831064681</td>\n",
       "      <td>9</td>\n",
       "      <td>5.26</td>\n",
       "      <td>13.40784</td>\n",
       "    </tr>\n",
       "    <tr>\n",
       "      <th>688</th>\n",
       "      <td>15878</td>\n",
       "      <td>Mon, Jan 10, 2022 06:11 pm</td>\n",
       "      <td>1641831059643</td>\n",
       "      <td>9</td>\n",
       "      <td>5.26</td>\n",
       "      <td>15.865944</td>\n",
       "    </tr>\n",
       "    <tr>\n",
       "      <th>689</th>\n",
       "      <td>15877</td>\n",
       "      <td>Mon, Jan 10, 2022 06:10 pm</td>\n",
       "      <td>1641831054597</td>\n",
       "      <td>9</td>\n",
       "      <td>5.26</td>\n",
       "      <td>15.419016</td>\n",
       "    </tr>\n",
       "    <tr>\n",
       "      <th>690</th>\n",
       "      <td>15876</td>\n",
       "      <td>Mon, Jan 10, 2022 06:10 pm</td>\n",
       "      <td>1641831049563</td>\n",
       "      <td>9</td>\n",
       "      <td>5.26</td>\n",
       "      <td>15.64248</td>\n",
       "    </tr>\n",
       "  </tbody>\n",
       "</table>\n",
       "</div>"
      ],
      "text/plain": [
       "0       id                   TimeStamp    captureTime phoneVersion appVersion  \\\n",
       "686  15880  Mon, Jan 10, 2022 06:11 pm  1641831069719            9       5.26   \n",
       "687  15879  Mon, Jan 10, 2022 06:11 pm  1641831064681            9       5.26   \n",
       "688  15878  Mon, Jan 10, 2022 06:11 pm  1641831059643            9       5.26   \n",
       "689  15877  Mon, Jan 10, 2022 06:10 pm  1641831054597            9       5.26   \n",
       "690  15876  Mon, Jan 10, 2022 06:10 pm  1641831049563            9       5.26   \n",
       "\n",
       "0   currentLuxValue  \n",
       "686        13.40784  \n",
       "687        13.40784  \n",
       "688       15.865944  \n",
       "689       15.419016  \n",
       "690        15.64248  "
      ]
     },
     "execution_count": 26,
     "metadata": {},
     "output_type": "execute_result"
    }
   ],
   "source": [
    "sensor_data.head()"
   ]
  },
  {
   "cell_type": "code",
   "execution_count": 27,
   "id": "0922643d",
   "metadata": {},
   "outputs": [
    {
     "data": {
      "text/html": [
       "<div>\n",
       "<style scoped>\n",
       "    .dataframe tbody tr th:only-of-type {\n",
       "        vertical-align: middle;\n",
       "    }\n",
       "\n",
       "    .dataframe tbody tr th {\n",
       "        vertical-align: top;\n",
       "    }\n",
       "\n",
       "    .dataframe thead th {\n",
       "        text-align: right;\n",
       "    }\n",
       "</style>\n",
       "<table border=\"1\" class=\"dataframe\">\n",
       "  <thead>\n",
       "    <tr style=\"text-align: right;\">\n",
       "      <th></th>\n",
       "      <th>id</th>\n",
       "      <th>TimeStamp</th>\n",
       "      <th>captureTime</th>\n",
       "      <th>phoneVersion</th>\n",
       "      <th>appVersion</th>\n",
       "      <th>currentLuxValue</th>\n",
       "    </tr>\n",
       "  </thead>\n",
       "  <tbody>\n",
       "    <tr>\n",
       "      <th>1443</th>\n",
       "      <td>15123</td>\n",
       "      <td>Mon, Jan 10, 2022 04:49 pm</td>\n",
       "      <td>1641826160558</td>\n",
       "      <td>9</td>\n",
       "      <td>5.26</td>\n",
       "      <td>16.7598</td>\n",
       "    </tr>\n",
       "    <tr>\n",
       "      <th>1444</th>\n",
       "      <td>15122</td>\n",
       "      <td>Mon, Jan 10, 2022 04:49 pm</td>\n",
       "      <td>1641826155513</td>\n",
       "      <td>9</td>\n",
       "      <td>5.26</td>\n",
       "      <td>16.312872</td>\n",
       "    </tr>\n",
       "    <tr>\n",
       "      <th>1445</th>\n",
       "      <td>15121</td>\n",
       "      <td>Mon, Jan 10, 2022 04:49 pm</td>\n",
       "      <td>1641826150479</td>\n",
       "      <td>9</td>\n",
       "      <td>5.26</td>\n",
       "      <td>12.737448</td>\n",
       "    </tr>\n",
       "    <tr>\n",
       "      <th>1446</th>\n",
       "      <td>15120</td>\n",
       "      <td>Mon, Jan 10, 2022 04:49 pm</td>\n",
       "      <td>1641826145298</td>\n",
       "      <td>9</td>\n",
       "      <td>5.26</td>\n",
       "      <td>8.268168</td>\n",
       "    </tr>\n",
       "    <tr>\n",
       "      <th>1447</th>\n",
       "      <td>15119</td>\n",
       "      <td>Mon, Jan 10, 2022 04:49 pm</td>\n",
       "      <td>1641822741398</td>\n",
       "      <td>9</td>\n",
       "      <td>5.26</td>\n",
       "      <td>14.972088</td>\n",
       "    </tr>\n",
       "  </tbody>\n",
       "</table>\n",
       "</div>"
      ],
      "text/plain": [
       "0        id                   TimeStamp    captureTime phoneVersion  \\\n",
       "1443  15123  Mon, Jan 10, 2022 04:49 pm  1641826160558            9   \n",
       "1444  15122  Mon, Jan 10, 2022 04:49 pm  1641826155513            9   \n",
       "1445  15121  Mon, Jan 10, 2022 04:49 pm  1641826150479            9   \n",
       "1446  15120  Mon, Jan 10, 2022 04:49 pm  1641826145298            9   \n",
       "1447  15119  Mon, Jan 10, 2022 04:49 pm  1641822741398            9   \n",
       "\n",
       "0    appVersion currentLuxValue  \n",
       "1443       5.26         16.7598  \n",
       "1444       5.26       16.312872  \n",
       "1445       5.26       12.737448  \n",
       "1446       5.26        8.268168  \n",
       "1447       5.26       14.972088  "
      ]
     },
     "execution_count": 27,
     "metadata": {},
     "output_type": "execute_result"
    }
   ],
   "source": [
    "sensor_data.tail()"
   ]
  },
  {
   "cell_type": "code",
   "execution_count": 28,
   "id": "36833448",
   "metadata": {},
   "outputs": [],
   "source": [
    "sensor_data['currentLuxValue'] = sensor_data['currentLuxValue'].astype('float64')"
   ]
  },
  {
   "cell_type": "code",
   "execution_count": 29,
   "id": "8233b166",
   "metadata": {},
   "outputs": [
    {
     "data": {
      "text/plain": [
       "count    762.000000\n",
       "mean      41.537030\n",
       "std       18.260757\n",
       "min        0.000000\n",
       "25%       25.474895\n",
       "50%       35.865972\n",
       "75%       58.994495\n",
       "max       76.648150\n",
       "Name: currentLuxValue, dtype: float64"
      ]
     },
     "execution_count": 29,
     "metadata": {},
     "output_type": "execute_result"
    }
   ],
   "source": [
    "sensor_data['currentLuxValue'].describe()"
   ]
  },
  {
   "cell_type": "code",
   "execution_count": 47,
   "id": "28604ebe",
   "metadata": {},
   "outputs": [
    {
     "data": {
      "image/png": "[encoded data removed]",
      "text/plain": [
       "<Figure size 1080x360 with 1 Axes>"
      ]
     },
     "metadata": {
      "needs_background": "light"
     },
     "output_type": "display_data"
    }
   ],
   "source": [
    "sensor_data.plot(x='id', y='currentLuxValue', figsize=(15,5))\n",
    "_ = plt.title('Week End Training Lux Values')\n",
    "_ = plt.xlabel('Time Steps')\n",
    "_ = plt.ylabel('Lux Values')"
   ]
  },
  {
   "cell_type": "code",
   "execution_count": 48,
   "id": "7bcfed15",
   "metadata": {},
   "outputs": [
    {
     "data": {
      "image/png": "[encoded data removed]",
      "text/plain": [
       "<Figure size 432x288 with 1 Axes>"
      ]
     },
     "metadata": {
      "needs_background": "light"
     },
     "output_type": "display_data"
    }
   ],
   "source": [
    "ax = sns.boxplot(x=sensor_data[\"currentLuxValue\"])\n",
    "_ = plt.title('Week End Trianing Lux Values Box plot')"
   ]
  },
  {
   "cell_type": "code",
   "execution_count": 49,
   "id": "d27ab34e",
   "metadata": {},
   "outputs": [
    {
     "name": "stderr",
     "output_type": "stream",
     "text": [
      "C:\\ProgramData\\Anaconda3\\lib\\site-packages\\seaborn\\distributions.py:2619: FutureWarning: `distplot` is a deprecated function and will be removed in a future version. Please adapt your code to use either `displot` (a figure-level function with similar flexibility) or `histplot` (an axes-level function for histograms).\n",
      "  warnings.warn(msg, FutureWarning)\n"
     ]
    },
    {
     "data": {
      "image/png": "[encoded data removed]",
      "text/plain": [
       "<Figure size 720x360 with 1 Axes>"
      ]
     },
     "metadata": {
      "needs_background": "light"
     },
     "output_type": "display_data"
    }
   ],
   "source": [
    "plt.figure(figsize=(10,5))\n",
    "ax = sns.distplot(sensor_data['currentLuxValue'])\n",
    "_ = plt.title('Week End Training Lux Values Distribution')"
   ]
  },
  {
   "cell_type": "code",
   "execution_count": null,
   "id": "fb7f73e2",
   "metadata": {},
   "outputs": [],
   "source": []
  },
  {
   "cell_type": "code",
   "execution_count": 34,
   "id": "ff7c16b3",
   "metadata": {},
   "outputs": [],
   "source": [
    "results = pd.read_excel('weekend_results.xlsx')"
   ]
  },
  {
   "cell_type": "code",
   "execution_count": 35,
   "id": "d6a33745",
   "metadata": {},
   "outputs": [
    {
     "data": {
      "text/html": [
       "<div>\n",
       "<style scoped>\n",
       "    .dataframe tbody tr th:only-of-type {\n",
       "        vertical-align: middle;\n",
       "    }\n",
       "\n",
       "    .dataframe tbody tr th {\n",
       "        vertical-align: top;\n",
       "    }\n",
       "\n",
       "    .dataframe thead th {\n",
       "        text-align: right;\n",
       "    }\n",
       "</style>\n",
       "<table border=\"1\" class=\"dataframe\">\n",
       "  <thead>\n",
       "    <tr style=\"text-align: right;\">\n",
       "      <th></th>\n",
       "      <th>ITI_GP_V3_Table_Page</th>\n",
       "      <th>Unnamed: 1</th>\n",
       "      <th>Unnamed: 2</th>\n",
       "      <th>Unnamed: 3</th>\n",
       "      <th>Unnamed: 4</th>\n",
       "      <th>Unnamed: 5</th>\n",
       "      <th>Unnamed: 6</th>\n",
       "      <th>Unnamed: 7</th>\n",
       "      <th>Unnamed: 8</th>\n",
       "      <th>Unnamed: 9</th>\n",
       "    </tr>\n",
       "  </thead>\n",
       "  <tbody>\n",
       "    <tr>\n",
       "      <th>0</th>\n",
       "      <td>#</td>\n",
       "      <td>id</td>\n",
       "      <td>TimeStamp</td>\n",
       "      <td>LuxValue</td>\n",
       "      <td>score</td>\n",
       "      <td>anomaly_prob</td>\n",
       "      <td>anomaly</td>\n",
       "      <td>season</td>\n",
       "      <td>day</td>\n",
       "      <td>month</td>\n",
       "    </tr>\n",
       "    <tr>\n",
       "      <th>1</th>\n",
       "      <td>1</td>\n",
       "      <td>866</td>\n",
       "      <td>Mon, Jan 10, 2022 09:45 pm</td>\n",
       "      <td>84.245926</td>\n",
       "      <td>5960</td>\n",
       "      <td>0.054</td>\n",
       "      <td>0</td>\n",
       "      <td>WeekEnd Day</td>\n",
       "      <td>7</td>\n",
       "      <td>8</td>\n",
       "    </tr>\n",
       "    <tr>\n",
       "      <th>2</th>\n",
       "      <td>2</td>\n",
       "      <td>865</td>\n",
       "      <td>Mon, Jan 10, 2022 09:45 pm</td>\n",
       "      <td>68.15652</td>\n",
       "      <td>5960</td>\n",
       "      <td>0.004</td>\n",
       "      <td>0</td>\n",
       "      <td>WeekEnd Day</td>\n",
       "      <td>7</td>\n",
       "      <td>8</td>\n",
       "    </tr>\n",
       "    <tr>\n",
       "      <th>3</th>\n",
       "      <td>3</td>\n",
       "      <td>864</td>\n",
       "      <td>Mon, Jan 10, 2022 09:45 pm</td>\n",
       "      <td>48.491688</td>\n",
       "      <td>5960</td>\n",
       "      <td>0.004</td>\n",
       "      <td>0</td>\n",
       "      <td>WeekEnd Day</td>\n",
       "      <td>7</td>\n",
       "      <td>8</td>\n",
       "    </tr>\n",
       "    <tr>\n",
       "      <th>4</th>\n",
       "      <td>4</td>\n",
       "      <td>863</td>\n",
       "      <td>Mon, Jan 10, 2022 09:45 pm</td>\n",
       "      <td>1480.449</td>\n",
       "      <td>0</td>\n",
       "      <td>1</td>\n",
       "      <td>1</td>\n",
       "      <td>WeekEnd Day</td>\n",
       "      <td>7</td>\n",
       "      <td>8</td>\n",
       "    </tr>\n",
       "  </tbody>\n",
       "</table>\n",
       "</div>"
      ],
      "text/plain": [
       "  ITI_GP_V3_Table_Page Unnamed: 1                  Unnamed: 2 Unnamed: 3  \\\n",
       "0                    #         id                   TimeStamp   LuxValue   \n",
       "1                    1        866  Mon, Jan 10, 2022 09:45 pm  84.245926   \n",
       "2                    2        865  Mon, Jan 10, 2022 09:45 pm   68.15652   \n",
       "3                    3        864  Mon, Jan 10, 2022 09:45 pm  48.491688   \n",
       "4                    4        863  Mon, Jan 10, 2022 09:45 pm   1480.449   \n",
       "\n",
       "  Unnamed: 4    Unnamed: 5 Unnamed: 6   Unnamed: 7 Unnamed: 8 Unnamed: 9  \n",
       "0      score  anomaly_prob    anomaly       season        day      month  \n",
       "1       5960         0.054          0  WeekEnd Day          7          8  \n",
       "2       5960         0.004          0  WeekEnd Day          7          8  \n",
       "3       5960         0.004          0  WeekEnd Day          7          8  \n",
       "4          0             1          1  WeekEnd Day          7          8  "
      ]
     },
     "execution_count": 35,
     "metadata": {},
     "output_type": "execute_result"
    }
   ],
   "source": [
    "results.head()"
   ]
  },
  {
   "cell_type": "code",
   "execution_count": 36,
   "id": "70ab73b4",
   "metadata": {},
   "outputs": [],
   "source": [
    "results.drop(['ITI_GP_V3_Table_Page'], axis=1, inplace=True)"
   ]
  },
  {
   "cell_type": "code",
   "execution_count": 37,
   "id": "7ef25816",
   "metadata": {},
   "outputs": [
    {
     "data": {
      "text/html": [
       "<div>\n",
       "<style scoped>\n",
       "    .dataframe tbody tr th:only-of-type {\n",
       "        vertical-align: middle;\n",
       "    }\n",
       "\n",
       "    .dataframe tbody tr th {\n",
       "        vertical-align: top;\n",
       "    }\n",
       "\n",
       "    .dataframe thead th {\n",
       "        text-align: right;\n",
       "    }\n",
       "</style>\n",
       "<table border=\"1\" class=\"dataframe\">\n",
       "  <thead>\n",
       "    <tr style=\"text-align: right;\">\n",
       "      <th></th>\n",
       "      <th>Unnamed: 1</th>\n",
       "      <th>Unnamed: 2</th>\n",
       "      <th>Unnamed: 3</th>\n",
       "      <th>Unnamed: 4</th>\n",
       "      <th>Unnamed: 5</th>\n",
       "      <th>Unnamed: 6</th>\n",
       "      <th>Unnamed: 7</th>\n",
       "      <th>Unnamed: 8</th>\n",
       "      <th>Unnamed: 9</th>\n",
       "    </tr>\n",
       "  </thead>\n",
       "  <tbody>\n",
       "    <tr>\n",
       "      <th>0</th>\n",
       "      <td>id</td>\n",
       "      <td>TimeStamp</td>\n",
       "      <td>LuxValue</td>\n",
       "      <td>score</td>\n",
       "      <td>anomaly_prob</td>\n",
       "      <td>anomaly</td>\n",
       "      <td>season</td>\n",
       "      <td>day</td>\n",
       "      <td>month</td>\n",
       "    </tr>\n",
       "    <tr>\n",
       "      <th>1</th>\n",
       "      <td>866</td>\n",
       "      <td>Mon, Jan 10, 2022 09:45 pm</td>\n",
       "      <td>84.245926</td>\n",
       "      <td>5960</td>\n",
       "      <td>0.054</td>\n",
       "      <td>0</td>\n",
       "      <td>WeekEnd Day</td>\n",
       "      <td>7</td>\n",
       "      <td>8</td>\n",
       "    </tr>\n",
       "    <tr>\n",
       "      <th>2</th>\n",
       "      <td>865</td>\n",
       "      <td>Mon, Jan 10, 2022 09:45 pm</td>\n",
       "      <td>68.15652</td>\n",
       "      <td>5960</td>\n",
       "      <td>0.004</td>\n",
       "      <td>0</td>\n",
       "      <td>WeekEnd Day</td>\n",
       "      <td>7</td>\n",
       "      <td>8</td>\n",
       "    </tr>\n",
       "    <tr>\n",
       "      <th>3</th>\n",
       "      <td>864</td>\n",
       "      <td>Mon, Jan 10, 2022 09:45 pm</td>\n",
       "      <td>48.491688</td>\n",
       "      <td>5960</td>\n",
       "      <td>0.004</td>\n",
       "      <td>0</td>\n",
       "      <td>WeekEnd Day</td>\n",
       "      <td>7</td>\n",
       "      <td>8</td>\n",
       "    </tr>\n",
       "    <tr>\n",
       "      <th>4</th>\n",
       "      <td>863</td>\n",
       "      <td>Mon, Jan 10, 2022 09:45 pm</td>\n",
       "      <td>1480.449</td>\n",
       "      <td>0</td>\n",
       "      <td>1</td>\n",
       "      <td>1</td>\n",
       "      <td>WeekEnd Day</td>\n",
       "      <td>7</td>\n",
       "      <td>8</td>\n",
       "    </tr>\n",
       "  </tbody>\n",
       "</table>\n",
       "</div>"
      ],
      "text/plain": [
       "  Unnamed: 1                  Unnamed: 2 Unnamed: 3 Unnamed: 4    Unnamed: 5  \\\n",
       "0         id                   TimeStamp   LuxValue      score  anomaly_prob   \n",
       "1        866  Mon, Jan 10, 2022 09:45 pm  84.245926       5960         0.054   \n",
       "2        865  Mon, Jan 10, 2022 09:45 pm   68.15652       5960         0.004   \n",
       "3        864  Mon, Jan 10, 2022 09:45 pm  48.491688       5960         0.004   \n",
       "4        863  Mon, Jan 10, 2022 09:45 pm   1480.449          0             1   \n",
       "\n",
       "  Unnamed: 6   Unnamed: 7 Unnamed: 8 Unnamed: 9  \n",
       "0    anomaly       season        day      month  \n",
       "1          0  WeekEnd Day          7          8  \n",
       "2          0  WeekEnd Day          7          8  \n",
       "3          0  WeekEnd Day          7          8  \n",
       "4          1  WeekEnd Day          7          8  "
      ]
     },
     "execution_count": 37,
     "metadata": {},
     "output_type": "execute_result"
    }
   ],
   "source": [
    "results.head()"
   ]
  },
  {
   "cell_type": "code",
   "execution_count": 38,
   "id": "a02abd92",
   "metadata": {},
   "outputs": [],
   "source": [
    "results.columns = results.iloc[0]"
   ]
  },
  {
   "cell_type": "code",
   "execution_count": 39,
   "id": "92eb81de",
   "metadata": {},
   "outputs": [],
   "source": [
    "results = results.iloc[1:]"
   ]
  },
  {
   "cell_type": "code",
   "execution_count": 40,
   "id": "7ccfdb71",
   "metadata": {},
   "outputs": [
    {
     "data": {
      "text/html": [
       "<div>\n",
       "<style scoped>\n",
       "    .dataframe tbody tr th:only-of-type {\n",
       "        vertical-align: middle;\n",
       "    }\n",
       "\n",
       "    .dataframe tbody tr th {\n",
       "        vertical-align: top;\n",
       "    }\n",
       "\n",
       "    .dataframe thead th {\n",
       "        text-align: right;\n",
       "    }\n",
       "</style>\n",
       "<table border=\"1\" class=\"dataframe\">\n",
       "  <thead>\n",
       "    <tr style=\"text-align: right;\">\n",
       "      <th></th>\n",
       "      <th>id</th>\n",
       "      <th>TimeStamp</th>\n",
       "      <th>LuxValue</th>\n",
       "      <th>score</th>\n",
       "      <th>anomaly_prob</th>\n",
       "      <th>anomaly</th>\n",
       "      <th>season</th>\n",
       "      <th>day</th>\n",
       "      <th>month</th>\n",
       "    </tr>\n",
       "  </thead>\n",
       "  <tbody>\n",
       "    <tr>\n",
       "      <th>1</th>\n",
       "      <td>866</td>\n",
       "      <td>Mon, Jan 10, 2022 09:45 pm</td>\n",
       "      <td>84.245926</td>\n",
       "      <td>5960</td>\n",
       "      <td>0.054</td>\n",
       "      <td>0</td>\n",
       "      <td>WeekEnd Day</td>\n",
       "      <td>7</td>\n",
       "      <td>8</td>\n",
       "    </tr>\n",
       "    <tr>\n",
       "      <th>2</th>\n",
       "      <td>865</td>\n",
       "      <td>Mon, Jan 10, 2022 09:45 pm</td>\n",
       "      <td>68.15652</td>\n",
       "      <td>5960</td>\n",
       "      <td>0.004</td>\n",
       "      <td>0</td>\n",
       "      <td>WeekEnd Day</td>\n",
       "      <td>7</td>\n",
       "      <td>8</td>\n",
       "    </tr>\n",
       "    <tr>\n",
       "      <th>3</th>\n",
       "      <td>864</td>\n",
       "      <td>Mon, Jan 10, 2022 09:45 pm</td>\n",
       "      <td>48.491688</td>\n",
       "      <td>5960</td>\n",
       "      <td>0.004</td>\n",
       "      <td>0</td>\n",
       "      <td>WeekEnd Day</td>\n",
       "      <td>7</td>\n",
       "      <td>8</td>\n",
       "    </tr>\n",
       "    <tr>\n",
       "      <th>4</th>\n",
       "      <td>863</td>\n",
       "      <td>Mon, Jan 10, 2022 09:45 pm</td>\n",
       "      <td>1480.449</td>\n",
       "      <td>0</td>\n",
       "      <td>1</td>\n",
       "      <td>1</td>\n",
       "      <td>WeekEnd Day</td>\n",
       "      <td>7</td>\n",
       "      <td>8</td>\n",
       "    </tr>\n",
       "    <tr>\n",
       "      <th>5</th>\n",
       "      <td>862</td>\n",
       "      <td>Mon, Jan 10, 2022 09:45 pm</td>\n",
       "      <td>1532.2926</td>\n",
       "      <td>0</td>\n",
       "      <td>1</td>\n",
       "      <td>1</td>\n",
       "      <td>WeekEnd Day</td>\n",
       "      <td>7</td>\n",
       "      <td>8</td>\n",
       "    </tr>\n",
       "  </tbody>\n",
       "</table>\n",
       "</div>"
      ],
      "text/plain": [
       "0   id                   TimeStamp   LuxValue score anomaly_prob anomaly  \\\n",
       "1  866  Mon, Jan 10, 2022 09:45 pm  84.245926  5960        0.054       0   \n",
       "2  865  Mon, Jan 10, 2022 09:45 pm   68.15652  5960        0.004       0   \n",
       "3  864  Mon, Jan 10, 2022 09:45 pm  48.491688  5960        0.004       0   \n",
       "4  863  Mon, Jan 10, 2022 09:45 pm   1480.449     0            1       1   \n",
       "5  862  Mon, Jan 10, 2022 09:45 pm  1532.2926     0            1       1   \n",
       "\n",
       "0       season day month  \n",
       "1  WeekEnd Day   7     8  \n",
       "2  WeekEnd Day   7     8  \n",
       "3  WeekEnd Day   7     8  \n",
       "4  WeekEnd Day   7     8  \n",
       "5  WeekEnd Day   7     8  "
      ]
     },
     "execution_count": 40,
     "metadata": {},
     "output_type": "execute_result"
    }
   ],
   "source": [
    "results.head()"
   ]
  },
  {
   "cell_type": "code",
   "execution_count": 44,
   "id": "a6446a73",
   "metadata": {},
   "outputs": [
    {
     "data": {
      "text/plain": [
       "<AxesSubplot:xlabel='id', ylabel='LuxValue'>"
      ]
     },
     "execution_count": 44,
     "metadata": {},
     "output_type": "execute_result"
    },
    {
     "data": {
      "image/png": "[encoded data removed]",
      "text/plain": [
       "<Figure size 720x360 with 1 Axes>"
      ]
     },
     "metadata": {
      "needs_background": "light"
     },
     "output_type": "display_data"
    }
   ],
   "source": [
    "plt.figure(figsize=(10,5))\n",
    "sns.scatterplot(data=results.iloc[0:18], x=\"id\", y=\"LuxValue\", hue='anomaly')"
   ]
  },
  {
   "cell_type": "code",
   "execution_count": 45,
   "id": "9e67ba22",
   "metadata": {},
   "outputs": [
    {
     "data": {
      "text/plain": [
       "<AxesSubplot:xlabel='id'>"
      ]
     },
     "execution_count": 45,
     "metadata": {},
     "output_type": "execute_result"
    },
    {
     "data": {
      "image/png": "[encoded data removed]",
      "text/plain": [
       "<Figure size 432x288 with 1 Axes>"
      ]
     },
     "metadata": {
      "needs_background": "light"
     },
     "output_type": "display_data"
    }
   ],
   "source": [
    "results.iloc[0:18].plot(x='id', y = 'LuxValue')"
   ]
  },
  {
   "cell_type": "code",
   "execution_count": 46,
   "id": "3a5ee774",
   "metadata": {},
   "outputs": [
    {
     "data": {
      "text/plain": [
       "<matplotlib.collections.PathCollection at 0x1dd3f339250>"
      ]
     },
     "execution_count": 46,
     "metadata": {},
     "output_type": "execute_result"
    },
    {
     "data": {
      "image/png": "[encoded data removed]",
      "text/plain": [
       "<Figure size 432x288 with 1 Axes>"
      ]
     },
     "metadata": {
      "needs_background": "light"
     },
     "output_type": "display_data"
    }
   ],
   "source": [
    "plt.scatter(results.iloc[0:18]['id'], results.iloc[0:18]['LuxValue'])"
   ]
  },
  {
   "cell_type": "code",
   "execution_count": null,
   "id": "5c07441c",
   "metadata": {},
   "outputs": [],
   "source": []
  }
 ],
 "metadata": {
  "kernelspec": {
   "display_name": "Python 3 (ipykernel)",
   "language": "python",
   "name": "python3"
  },
  "language_info": {
   "codemirror_mode": {
    "name": "ipython",
    "version": 3
   },
   "file_extension": ".py",
   "mimetype": "text/x-python",
   "name": "python",
   "nbconvert_exporter": "python",
   "pygments_lexer": "ipython3",
   "version": "3.9.7"
  }
 },
 "nbformat": 4,
 "nbformat_minor": 5
}
