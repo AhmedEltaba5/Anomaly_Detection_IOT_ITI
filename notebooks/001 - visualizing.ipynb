{
 "cells": [
  {
   "cell_type": "code",
   "execution_count": 1,
   "id": "3fd394a8",
   "metadata": {},
   "outputs": [],
   "source": [
    "import pandas as pd\n",
    "import matplotlib.pyplot as plt\n",
    "import seaborn as sns"
   ]
  },
  {
   "cell_type": "code",
   "execution_count": 9,
   "id": "737093be",
   "metadata": {},
   "outputs": [],
   "source": [
    "sensor_data = pd.read_excel('ITI_GP_V3_Sensor_Data.xlsx')"
   ]
  },
  {
   "cell_type": "code",
   "execution_count": 10,
   "id": "bb8fc3d6",
   "metadata": {},
   "outputs": [
    {
     "data": {
      "text/html": [
       "<div>\n",
       "<style scoped>\n",
       "    .dataframe tbody tr th:only-of-type {\n",
       "        vertical-align: middle;\n",
       "    }\n",
       "\n",
       "    .dataframe tbody tr th {\n",
       "        vertical-align: top;\n",
       "    }\n",
       "\n",
       "    .dataframe thead th {\n",
       "        text-align: right;\n",
       "    }\n",
       "</style>\n",
       "<table border=\"1\" class=\"dataframe\">\n",
       "  <thead>\n",
       "    <tr style=\"text-align: right;\">\n",
       "      <th></th>\n",
       "      <th>ITI_GP_V3_Sensor_Data</th>\n",
       "      <th>Unnamed: 1</th>\n",
       "      <th>Unnamed: 2</th>\n",
       "      <th>Unnamed: 3</th>\n",
       "      <th>Unnamed: 4</th>\n",
       "      <th>Unnamed: 5</th>\n",
       "      <th>Unnamed: 6</th>\n",
       "    </tr>\n",
       "  </thead>\n",
       "  <tbody>\n",
       "    <tr>\n",
       "      <th>0</th>\n",
       "      <td>#</td>\n",
       "      <td>id</td>\n",
       "      <td>TimeStamp</td>\n",
       "      <td>captureTime</td>\n",
       "      <td>phoneVersion</td>\n",
       "      <td>appVersion</td>\n",
       "      <td>currentLuxValue</td>\n",
       "    </tr>\n",
       "    <tr>\n",
       "      <th>1</th>\n",
       "      <td>1</td>\n",
       "      <td>15116</td>\n",
       "      <td>Mon, Jan 10, 2022 02:16 pm</td>\n",
       "      <td>0</td>\n",
       "      <td>0</td>\n",
       "      <td>0</td>\n",
       "      <td>3000</td>\n",
       "    </tr>\n",
       "    <tr>\n",
       "      <th>2</th>\n",
       "      <td>2</td>\n",
       "      <td>15115</td>\n",
       "      <td>Mon, Jan 10, 2022 02:16 pm</td>\n",
       "      <td>0</td>\n",
       "      <td>0</td>\n",
       "      <td>0</td>\n",
       "      <td>2800</td>\n",
       "    </tr>\n",
       "    <tr>\n",
       "      <th>3</th>\n",
       "      <td>3</td>\n",
       "      <td>15114</td>\n",
       "      <td>Mon, Jan 10, 2022 02:15 pm</td>\n",
       "      <td>0</td>\n",
       "      <td>0</td>\n",
       "      <td>0</td>\n",
       "      <td>2500</td>\n",
       "    </tr>\n",
       "    <tr>\n",
       "      <th>4</th>\n",
       "      <td>4</td>\n",
       "      <td>15113</td>\n",
       "      <td>Mon, Jan 10, 2022 02:15 pm</td>\n",
       "      <td>0</td>\n",
       "      <td>0</td>\n",
       "      <td>0</td>\n",
       "      <td>2400</td>\n",
       "    </tr>\n",
       "  </tbody>\n",
       "</table>\n",
       "</div>"
      ],
      "text/plain": [
       "  ITI_GP_V3_Sensor_Data Unnamed: 1                  Unnamed: 2   Unnamed: 3  \\\n",
       "0                     #         id                   TimeStamp  captureTime   \n",
       "1                     1      15116  Mon, Jan 10, 2022 02:16 pm            0   \n",
       "2                     2      15115  Mon, Jan 10, 2022 02:16 pm            0   \n",
       "3                     3      15114  Mon, Jan 10, 2022 02:15 pm            0   \n",
       "4                     4      15113  Mon, Jan 10, 2022 02:15 pm            0   \n",
       "\n",
       "     Unnamed: 4  Unnamed: 5       Unnamed: 6  \n",
       "0  phoneVersion  appVersion  currentLuxValue  \n",
       "1             0           0             3000  \n",
       "2             0           0             2800  \n",
       "3             0           0             2500  \n",
       "4             0           0             2400  "
      ]
     },
     "execution_count": 10,
     "metadata": {},
     "output_type": "execute_result"
    }
   ],
   "source": [
    "sensor_data.head()"
   ]
  },
  {
   "cell_type": "code",
   "execution_count": 11,
   "id": "3d2c1ca7",
   "metadata": {},
   "outputs": [
    {
     "data": {
      "text/plain": [
       "Index(['ITI_GP_V3_Sensor_Data', 'Unnamed: 1', 'Unnamed: 2', 'Unnamed: 3',\n",
       "       'Unnamed: 4', 'Unnamed: 5', 'Unnamed: 6'],\n",
       "      dtype='object')"
      ]
     },
     "execution_count": 11,
     "metadata": {},
     "output_type": "execute_result"
    }
   ],
   "source": [
    "sensor_data.columns"
   ]
  },
  {
   "cell_type": "code",
   "execution_count": 12,
   "id": "8a96c255",
   "metadata": {},
   "outputs": [],
   "source": [
    "sensor_data.drop(['ITI_GP_V3_Sensor_Data'], axis=1, inplace=True)"
   ]
  },
  {
   "cell_type": "code",
   "execution_count": 14,
   "id": "57921054",
   "metadata": {},
   "outputs": [],
   "source": [
    "sensor_data.columns = sensor_data.iloc[0]"
   ]
  },
  {
   "cell_type": "code",
   "execution_count": 16,
   "id": "5536eece",
   "metadata": {},
   "outputs": [],
   "source": [
    "sensor_data = sensor_data.iloc[1:,:]"
   ]
  },
  {
   "cell_type": "code",
   "execution_count": 17,
   "id": "2e80eff8",
   "metadata": {},
   "outputs": [
    {
     "data": {
      "text/html": [
       "<div>\n",
       "<style scoped>\n",
       "    .dataframe tbody tr th:only-of-type {\n",
       "        vertical-align: middle;\n",
       "    }\n",
       "\n",
       "    .dataframe tbody tr th {\n",
       "        vertical-align: top;\n",
       "    }\n",
       "\n",
       "    .dataframe thead th {\n",
       "        text-align: right;\n",
       "    }\n",
       "</style>\n",
       "<table border=\"1\" class=\"dataframe\">\n",
       "  <thead>\n",
       "    <tr style=\"text-align: right;\">\n",
       "      <th></th>\n",
       "      <th>id</th>\n",
       "      <th>TimeStamp</th>\n",
       "      <th>captureTime</th>\n",
       "      <th>phoneVersion</th>\n",
       "      <th>appVersion</th>\n",
       "      <th>currentLuxValue</th>\n",
       "    </tr>\n",
       "  </thead>\n",
       "  <tbody>\n",
       "    <tr>\n",
       "      <th>1</th>\n",
       "      <td>15116</td>\n",
       "      <td>Mon, Jan 10, 2022 02:16 pm</td>\n",
       "      <td>0</td>\n",
       "      <td>0</td>\n",
       "      <td>0</td>\n",
       "      <td>3000</td>\n",
       "    </tr>\n",
       "    <tr>\n",
       "      <th>2</th>\n",
       "      <td>15115</td>\n",
       "      <td>Mon, Jan 10, 2022 02:16 pm</td>\n",
       "      <td>0</td>\n",
       "      <td>0</td>\n",
       "      <td>0</td>\n",
       "      <td>2800</td>\n",
       "    </tr>\n",
       "    <tr>\n",
       "      <th>3</th>\n",
       "      <td>15114</td>\n",
       "      <td>Mon, Jan 10, 2022 02:15 pm</td>\n",
       "      <td>0</td>\n",
       "      <td>0</td>\n",
       "      <td>0</td>\n",
       "      <td>2500</td>\n",
       "    </tr>\n",
       "    <tr>\n",
       "      <th>4</th>\n",
       "      <td>15113</td>\n",
       "      <td>Mon, Jan 10, 2022 02:15 pm</td>\n",
       "      <td>0</td>\n",
       "      <td>0</td>\n",
       "      <td>0</td>\n",
       "      <td>2400</td>\n",
       "    </tr>\n",
       "    <tr>\n",
       "      <th>5</th>\n",
       "      <td>15112</td>\n",
       "      <td>Mon, Jan 10, 2022 02:15 pm</td>\n",
       "      <td>0</td>\n",
       "      <td>0</td>\n",
       "      <td>0</td>\n",
       "      <td>2300</td>\n",
       "    </tr>\n",
       "  </tbody>\n",
       "</table>\n",
       "</div>"
      ],
      "text/plain": [
       "0     id                   TimeStamp captureTime phoneVersion appVersion  \\\n",
       "1  15116  Mon, Jan 10, 2022 02:16 pm           0            0          0   \n",
       "2  15115  Mon, Jan 10, 2022 02:16 pm           0            0          0   \n",
       "3  15114  Mon, Jan 10, 2022 02:15 pm           0            0          0   \n",
       "4  15113  Mon, Jan 10, 2022 02:15 pm           0            0          0   \n",
       "5  15112  Mon, Jan 10, 2022 02:15 pm           0            0          0   \n",
       "\n",
       "0 currentLuxValue  \n",
       "1            3000  \n",
       "2            2800  \n",
       "3            2500  \n",
       "4            2400  \n",
       "5            2300  "
      ]
     },
     "execution_count": 17,
     "metadata": {},
     "output_type": "execute_result"
    }
   ],
   "source": [
    "sensor_data.head()"
   ]
  },
  {
   "cell_type": "code",
   "execution_count": 22,
   "id": "0f100c40",
   "metadata": {},
   "outputs": [
    {
     "name": "stdout",
     "output_type": "stream",
     "text": [
      "<class 'pandas.core.frame.DataFrame'>\n",
      "Int64Index: 2683 entries, 27 to 2709\n",
      "Data columns (total 6 columns):\n",
      " #   Column           Non-Null Count  Dtype \n",
      "---  ------           --------------  ----- \n",
      " 0   id               2683 non-null   object\n",
      " 1   TimeStamp        2683 non-null   object\n",
      " 2   captureTime      2683 non-null   object\n",
      " 3   phoneVersion     2683 non-null   object\n",
      " 4   appVersion       2683 non-null   object\n",
      " 5   currentLuxValue  2683 non-null   object\n",
      "dtypes: object(6)\n",
      "memory usage: 146.7+ KB\n"
     ]
    }
   ],
   "source": [
    "sensor_data.info()"
   ]
  },
  {
   "cell_type": "code",
   "execution_count": 21,
   "id": "40e6c707",
   "metadata": {},
   "outputs": [],
   "source": [
    "sensor_data = sensor_data.query('id >= 12408 & id<= 15090')"
   ]
  },
  {
   "cell_type": "code",
   "execution_count": 24,
   "id": "97f90c6d",
   "metadata": {},
   "outputs": [
    {
     "data": {
      "text/html": [
       "<div>\n",
       "<style scoped>\n",
       "    .dataframe tbody tr th:only-of-type {\n",
       "        vertical-align: middle;\n",
       "    }\n",
       "\n",
       "    .dataframe tbody tr th {\n",
       "        vertical-align: top;\n",
       "    }\n",
       "\n",
       "    .dataframe thead th {\n",
       "        text-align: right;\n",
       "    }\n",
       "</style>\n",
       "<table border=\"1\" class=\"dataframe\">\n",
       "  <thead>\n",
       "    <tr style=\"text-align: right;\">\n",
       "      <th></th>\n",
       "      <th>id</th>\n",
       "      <th>TimeStamp</th>\n",
       "      <th>captureTime</th>\n",
       "      <th>phoneVersion</th>\n",
       "      <th>appVersion</th>\n",
       "      <th>currentLuxValue</th>\n",
       "    </tr>\n",
       "  </thead>\n",
       "  <tbody>\n",
       "    <tr>\n",
       "      <th>27</th>\n",
       "      <td>15090</td>\n",
       "      <td>Mon, Jan 10, 2022 02:10 pm</td>\n",
       "      <td>1641816651290</td>\n",
       "      <td>9</td>\n",
       "      <td>5.26</td>\n",
       "      <td>4002.687</td>\n",
       "    </tr>\n",
       "    <tr>\n",
       "      <th>28</th>\n",
       "      <td>15089</td>\n",
       "      <td>Mon, Jan 10, 2022 02:10 pm</td>\n",
       "      <td>1641816646248</td>\n",
       "      <td>9</td>\n",
       "      <td>5.26</td>\n",
       "      <td>1629.0525</td>\n",
       "    </tr>\n",
       "    <tr>\n",
       "      <th>29</th>\n",
       "      <td>15088</td>\n",
       "      <td>Mon, Jan 10, 2022 02:10 pm</td>\n",
       "      <td>1641816641203</td>\n",
       "      <td>9</td>\n",
       "      <td>5.26</td>\n",
       "      <td>1562.6837</td>\n",
       "    </tr>\n",
       "    <tr>\n",
       "      <th>30</th>\n",
       "      <td>15087</td>\n",
       "      <td>Mon, Jan 10, 2022 02:10 pm</td>\n",
       "      <td>1641816636168</td>\n",
       "      <td>9</td>\n",
       "      <td>5.26</td>\n",
       "      <td>507.93365</td>\n",
       "    </tr>\n",
       "    <tr>\n",
       "      <th>31</th>\n",
       "      <td>15086</td>\n",
       "      <td>Mon, Jan 10, 2022 02:10 pm</td>\n",
       "      <td>1641816631127</td>\n",
       "      <td>9</td>\n",
       "      <td>5.26</td>\n",
       "      <td>2591.959</td>\n",
       "    </tr>\n",
       "  </tbody>\n",
       "</table>\n",
       "</div>"
      ],
      "text/plain": [
       "0      id                   TimeStamp    captureTime phoneVersion appVersion  \\\n",
       "27  15090  Mon, Jan 10, 2022 02:10 pm  1641816651290            9       5.26   \n",
       "28  15089  Mon, Jan 10, 2022 02:10 pm  1641816646248            9       5.26   \n",
       "29  15088  Mon, Jan 10, 2022 02:10 pm  1641816641203            9       5.26   \n",
       "30  15087  Mon, Jan 10, 2022 02:10 pm  1641816636168            9       5.26   \n",
       "31  15086  Mon, Jan 10, 2022 02:10 pm  1641816631127            9       5.26   \n",
       "\n",
       "0  currentLuxValue  \n",
       "27        4002.687  \n",
       "28       1629.0525  \n",
       "29       1562.6837  \n",
       "30       507.93365  \n",
       "31        2591.959  "
      ]
     },
     "execution_count": 24,
     "metadata": {},
     "output_type": "execute_result"
    }
   ],
   "source": [
    "sensor_data.head()"
   ]
  },
  {
   "cell_type": "code",
   "execution_count": 25,
   "id": "307acac6",
   "metadata": {},
   "outputs": [
    {
     "data": {
      "text/plain": [
       "(2683, 6)"
      ]
     },
     "execution_count": 25,
     "metadata": {},
     "output_type": "execute_result"
    }
   ],
   "source": [
    "sensor_data.shape"
   ]
  },
  {
   "cell_type": "code",
   "execution_count": 35,
   "id": "937827f3",
   "metadata": {},
   "outputs": [
    {
     "data": {
      "text/plain": [
       "<AxesSubplot:xlabel='id'>"
      ]
     },
     "execution_count": 35,
     "metadata": {},
     "output_type": "execute_result"
    },
    {
     "data": {
      "image/png": "[encoded data removed]",
      "text/plain": [
       "<Figure size 1080x360 with 1 Axes>"
      ]
     },
     "metadata": {
      "needs_background": "light"
     },
     "output_type": "display_data"
    }
   ],
   "source": [
    "sensor_data.plot(x='id', y='currentLuxValue', figsize=(15,5))\n",
    "#_ = plt.scatter([15000], [3000])"
   ]
  },
  {
   "cell_type": "code",
   "execution_count": 36,
   "id": "f7ddb29a",
   "metadata": {},
   "outputs": [],
   "source": [
    "sensor_data = sensor_data.query('currentLuxValue > 1000')"
   ]
  },
  {
   "cell_type": "code",
   "execution_count": 43,
   "id": "4653ab51",
   "metadata": {},
   "outputs": [
    {
     "data": {
      "image/png": "[encoded data removed]",
      "text/plain": [
       "<Figure size 1080x360 with 1 Axes>"
      ]
     },
     "metadata": {
      "needs_background": "light"
     },
     "output_type": "display_data"
    }
   ],
   "source": [
    "sensor_data.plot(x='id', y='currentLuxValue', figsize=(15,5))\n",
    "_ = plt.scatter([12500,13000,13500,14000,14500,15000], [1500,1600,1700,1800,1900,2000])"
   ]
  },
  {
   "cell_type": "code",
   "execution_count": 47,
   "id": "12ae6e27",
   "metadata": {},
   "outputs": [
    {
     "name": "stdout",
     "output_type": "stream",
     "text": [
      "<class 'pandas.core.frame.DataFrame'>\n",
      "Int64Index: 2646 entries, 27 to 2709\n",
      "Data columns (total 6 columns):\n",
      " #   Column           Non-Null Count  Dtype \n",
      "---  ------           --------------  ----- \n",
      " 0   id               2646 non-null   object\n",
      " 1   TimeStamp        2646 non-null   object\n",
      " 2   captureTime      2646 non-null   object\n",
      " 3   phoneVersion     2646 non-null   object\n",
      " 4   appVersion       2646 non-null   object\n",
      " 5   currentLuxValue  2646 non-null   object\n",
      "dtypes: object(6)\n",
      "memory usage: 144.7+ KB\n"
     ]
    }
   ],
   "source": [
    "sensor_data.info()"
   ]
  },
  {
   "cell_type": "code",
   "execution_count": 52,
   "id": "1b9ec213",
   "metadata": {},
   "outputs": [
    {
     "name": "stderr",
     "output_type": "stream",
     "text": [
      "C:\\Users\\AHMEDE~1\\AppData\\Local\\Temp/ipykernel_9820/3143824050.py:1: SettingWithCopyWarning: \n",
      "A value is trying to be set on a copy of a slice from a DataFrame.\n",
      "Try using .loc[row_indexer,col_indexer] = value instead\n",
      "\n",
      "See the caveats in the documentation: https://pandas.pydata.org/pandas-docs/stable/user_guide/indexing.html#returning-a-view-versus-a-copy\n",
      "  sensor_data['currentLuxValue'] = sensor_data['currentLuxValue'].astype('float64')\n"
     ]
    }
   ],
   "source": [
    "sensor_data['currentLuxValue'] = sensor_data['currentLuxValue'].astype('float64')"
   ]
  },
  {
   "cell_type": "code",
   "execution_count": 53,
   "id": "ab3926bb",
   "metadata": {},
   "outputs": [
    {
     "data": {
      "text/html": [
       "<div>\n",
       "<style scoped>\n",
       "    .dataframe tbody tr th:only-of-type {\n",
       "        vertical-align: middle;\n",
       "    }\n",
       "\n",
       "    .dataframe tbody tr th {\n",
       "        vertical-align: top;\n",
       "    }\n",
       "\n",
       "    .dataframe thead th {\n",
       "        text-align: right;\n",
       "    }\n",
       "</style>\n",
       "<table border=\"1\" class=\"dataframe\">\n",
       "  <thead>\n",
       "    <tr style=\"text-align: right;\">\n",
       "      <th></th>\n",
       "      <th>currentLuxValue</th>\n",
       "    </tr>\n",
       "  </thead>\n",
       "  <tbody>\n",
       "    <tr>\n",
       "      <th>count</th>\n",
       "      <td>2646.000000</td>\n",
       "    </tr>\n",
       "    <tr>\n",
       "      <th>mean</th>\n",
       "      <td>1758.810972</td>\n",
       "    </tr>\n",
       "    <tr>\n",
       "      <th>std</th>\n",
       "      <td>268.719363</td>\n",
       "    </tr>\n",
       "    <tr>\n",
       "      <th>min</th>\n",
       "      <td>1002.012600</td>\n",
       "    </tr>\n",
       "    <tr>\n",
       "      <th>25%</th>\n",
       "      <td>1589.555275</td>\n",
       "    </tr>\n",
       "    <tr>\n",
       "      <th>50%</th>\n",
       "      <td>1738.773350</td>\n",
       "    </tr>\n",
       "    <tr>\n",
       "      <th>75%</th>\n",
       "      <td>1941.790375</td>\n",
       "    </tr>\n",
       "    <tr>\n",
       "      <th>max</th>\n",
       "      <td>4002.687000</td>\n",
       "    </tr>\n",
       "  </tbody>\n",
       "</table>\n",
       "</div>"
      ],
      "text/plain": [
       "0      currentLuxValue\n",
       "count      2646.000000\n",
       "mean       1758.810972\n",
       "std         268.719363\n",
       "min        1002.012600\n",
       "25%        1589.555275\n",
       "50%        1738.773350\n",
       "75%        1941.790375\n",
       "max        4002.687000"
      ]
     },
     "execution_count": 53,
     "metadata": {},
     "output_type": "execute_result"
    }
   ],
   "source": [
    "sensor_data.describe()"
   ]
  },
  {
   "cell_type": "code",
   "execution_count": null,
   "id": "5e0b70b5",
   "metadata": {},
   "outputs": [],
   "source": []
  }
 ],
 "metadata": {
  "kernelspec": {
   "display_name": "Python 3 (ipykernel)",
   "language": "python",
   "name": "python3"
  },
  "language_info": {
   "codemirror_mode": {
    "name": "ipython",
    "version": 3
   },
   "file_extension": ".py",
   "mimetype": "text/x-python",
   "name": "python",
   "nbconvert_exporter": "python",
   "pygments_lexer": "ipython3",
   "version": "3.9.7"
  }
 },
 "nbformat": 4,
 "nbformat_minor": 5
}
